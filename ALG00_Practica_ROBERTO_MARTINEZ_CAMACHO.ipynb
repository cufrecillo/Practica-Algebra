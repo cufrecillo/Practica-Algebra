{
 "cells": [
  {
   "cell_type": "markdown",
   "metadata": {},
   "source": [
    "# Práctica"
   ]
  },
  {
   "cell_type": "markdown",
   "metadata": {},
   "source": [
    "## 1. La conjetura de Collatz\n",
    "\n",
    "<img src=\"Images/comic_collatz.png\" style=\"width: 400px;\"/>\n",
    "\n",
    "Empiezas con un número entero natural cualquiera (1, 2, 3, 4, 5...).  \n",
    "Si el número es par, lo divides por 2  \n",
    "Si es impar, lo multiplicas por 3 y le sumas 1  \n",
    "\n",
    "Escribir un procedimiento en Python que implemente el mecanismo de la conjetura de Collatz para cualquier número entero positivo."
   ]
  },
  {
   "cell_type": "code",
   "execution_count": 1,
   "metadata": {},
   "outputs": [
    {
     "name": "stdout",
     "output_type": "stream",
     "text": [
      "Introduzca un numero: \n",
      "18\n",
      "18,9,28,14,7,22,11,34,17,52,26,13,40,20,10,5,16,8,4,2, hemos llegado al numero 1 con 20 operaciones\n"
     ]
    }
   ],
   "source": [
    "#tenemos que realizar operaciones hasta conseguir el numero 1, el bucle que vamos a usar es un while.\n",
    "\n",
    "def fun_collatz(numero):\n",
    "    contador=0;\n",
    "    while numero != 1:\n",
    "        if numero %2 == 0:\n",
    "            print(\"%d,\" % (numero), end = \"\")\n",
    "            numero = numero / 2\n",
    "            contador+=1\n",
    "        else:\n",
    "            print(\"%d,\" % (numero), end = \"\")\n",
    "            numero = (numero * 3) + 1\n",
    "            contador+=1\n",
    "        if numero == 1:\n",
    "            print(\" hemos llegado al numero %d con %d operaciones\" % (numero,contador))\n",
    "            \n",
    "print(\"Introduzca un numero: \")\n",
    "numero = int(input())\n",
    "if numero == 1 :\n",
    "    print(\"Has introducido el 1 directamente, esto es la Conjetura de Collazt!!!\")\n",
    "else:\n",
    "    fun_collatz(numero)"
   ]
  },
  {
   "cell_type": "markdown",
   "metadata": {},
   "source": [
    "## 2. Suma y producto escalar combinados\n",
    "\n",
    "Usando los procedimientos add y mult_vector_escalar definidos en el notebook **ALG05_Vectores**, calcular:   \n",
    "{$\\alpha$[1,2]+[3,4] : $\\alpha$$\\in$$\\mathbb{R}$, 0$\\leq$$\\alpha$$\\leq$1, con una precision de dos decimales (para la multiplicación)}"
   ]
  },
  {
   "cell_type": "code",
   "execution_count": null,
   "metadata": {},
   "outputs": [],
   "source": [
    "#vectores\n",
    "import numpy as np\n",
    "\n",
    "def add(v,w):\n",
    "    return [v[0]+w[0],v[1]+w[1]]\n",
    "\n",
    "def addn(v,w):\n",
    "    return[v[i]+w[i] for i in range(len(w))]\n",
    "\n",
    "def mult_vector_escalar(alpha,v):\n",
    "    return [alpha*v[i] for i in range(len(v))]"
   ]
  },
  {
   "cell_type": "code",
   "execution_count": null,
   "metadata": {},
   "outputs": [],
   "source": []
  },
  {
   "cell_type": "markdown",
   "metadata": {},
   "source": [
    "## 3. El secreto perfecto\n",
    "\n",
    "Representa la encriptación de la adicción de un n-vector a un n-vector de GF(2)  \n",
    "\n",
    "<img src=\"Images/mortadelo-filemon.jpg\" style=\"width: 300px;\"/>\n",
    "\n",
    "Mortadelo y Filemón usan como clave el siguiente vector:  \n",
    "**k**=[0,1,0,0,1,0,1,0,1,0] \n",
    "\n",
    "Mortadelo quiere enviarle a Filemón el siguiente mensaje:  \n",
    "**p**=[0,0,0,1,1,1,0,1,0,1] \n",
    "\n",
    "Mortadelo encripta su mensaje añadiendo k: \n",
    "**c**=**p**+**k**=[0,0,0,1,1,1,0,1,0,1]+[0,1,0,0,1,0,1,0,1,0]=[0,1,0,1,0,1,1,1,1,1] \n",
    "\n",
    "Cuando Filemón recibe el mensaje, lo desencripta añadiendo **k** a lo que ha recibido \n",
    "**p**=**c**+**k**=[0,1,0,1,0,1,1,1,1,1]+[0,1,0,0,1,0,1,0,1,0]=[0,0,0,1,1,1,0,1,0,1]    \n",
    "\n",
    "que es el mensaje original.\n",
    "\n",
    "La idea es crear un procedimiento para que Filemón:\n",
    "* No tenga que hacer este proceso manualmente cada vez que Mortadelo le envíe un mensaje encriptado para descifrarlo\n",
    "* Si deciden cambiar la clave, que el procedimiento cambie mínimamente\n",
    "\n",
    "  \n"
   ]
  },
  {
   "cell_type": "code",
   "execution_count": 2,
   "metadata": {},
   "outputs": [
    {
     "data": {
      "text/plain": [
       "[0, 0, 0, 1, 1, 1, 0, 1, 0, 1]"
      ]
     },
     "execution_count": 2,
     "metadata": {},
     "output_type": "execute_result"
    }
   ],
   "source": [
    "#vectores\n",
    "def addn_GF2(v,w):\n",
    "    return[(v[i]+w[i])%2 for i in range(len(v))]\n",
    "\n",
    "#datos de Mortadelo\n",
    "k=[0,1,0,0,1,0,1,0,1,0] #vector clave\n",
    "p=[0,0,0,1,1,1,0,1,0,1] #mensaje FINAL\n",
    "c= addn_GF2(k,p) #mensaje encriptado\n",
    "\n",
    "#datos de Filemon\n",
    "k #vector clave\n",
    "c #mensaje encriptado\n",
    "\n",
    "mensaje = addn_GF2(k,c)\n",
    "mensaje"
   ]
  },
  {
   "cell_type": "markdown",
   "metadata": {},
   "source": [
    "## 4. ¿Cuánto cuesta hacer una cerveza?\n",
    "\n",
    "<img src=\"Images/cerveza.jpg\" style=\"width: 300px;\"/>\n",
    "\n",
    "Supongamos que D es el conjunto de algunos ingredientes de la cerveza: \n",
    "> D={lúpulo, malta, agua, levadura} \n",
    "\n",
    "Por otro lado tenemos el vector coste:\n",
    "> coste={lúpulo: 2,5€, malta: 1.5€, agua: 0.006€, levadura: 0,45€}  \n",
    "\n",
    "Por último tenemos el vector cantidad con lo necesario para hacer una cerveza:\n",
    "> cantidad={lúpulo: 6u, malta: 14u, agua: 7u, levadura: 11u} \n",
    "\n",
    "¿Cuánto cuesta hacer una cerveza?"
   ]
  },
  {
   "cell_type": "code",
   "execution_count": 3,
   "metadata": {},
   "outputs": [
    {
     "name": "stdout",
     "output_type": "stream",
     "text": [
      "El precio que cuesta realizar una cerveza es: 40.99\n"
     ]
    }
   ],
   "source": [
    "#vectores\n",
    "v_coste = [2.5,1.5,0.006,0.45]\n",
    "v_cantidad = [6,14,7,11]\n",
    "\n",
    "def precio_cerveza(v,w):\n",
    "    return[v[i]*w[i] for i in range(len(v))]\n",
    "\n",
    "total = precio_cerveza(v_coste,v_cantidad)\n",
    "print(\"El precio que cuesta realizar una cerveza es:\",round(sum(total),2))"
   ]
  },
  {
   "cell_type": "markdown",
   "metadata": {},
   "source": [
    "## 5. La carrera de caballos\n",
    "\n",
    "Tres caballos A, B y C compiten en una carrera.  \n",
    "Las apuestas para dar como vencedor a cada uno de ellos son de 4 a 1 para A, 3 a 1 para B y 2 a 1 para C, tomando las unidades siempre en euros.  \n",
    "¿Cuánto debo apostar por cada caballo para asegurarme recibir 13 euros en total, sin importar qué caballo gane la carrera?"
   ]
  },
  {
   "cell_type": "markdown",
   "metadata": {},
   "source": [
    "Sean x,y,z el dinero apostado por los caballos A, B y C respectivamente.\n",
    "El objetivo del problema escalcular la cantidad que debe apostarse por cada caballo de forma que la suma del dinero recibido y perdido en las apuestas sea siempre igual a 13€.  \n",
    "Así, podemos plantear un sistema de tres ecuaciones con tres incógnitas, en el que igualaremos matemáticamente la cantidad percibida por la victoria de los caballos A, B, C y, al mismo tiempo, señalaremos que esta cantidad corresponde a 13€.  \n",
    "\n",
    "> 4x-y-z=3y-x-z  \n",
    "> 3y-x-z=2z-x-y  \n",
    "> 2z-x-y=13\n"
   ]
  },
  {
   "cell_type": "markdown",
   "metadata": {},
   "source": [
    "Todos las combinaciones deben dar 13 de beneficios. Luego ordenamos las variables (x,y,z) en la matriz."
   ]
  },
  {
   "cell_type": "code",
   "execution_count": 4,
   "metadata": {},
   "outputs": [
    {
     "data": {
      "text/plain": [
       "matrix([[12.],\n",
       "        [15.],\n",
       "        [20.]])"
      ]
     },
     "execution_count": 4,
     "metadata": {},
     "output_type": "execute_result"
    }
   ],
   "source": [
    "#sistemaEcuaciones\n",
    "import numpy as np\n",
    "\n",
    "A = np.matrix(\n",
    "    [[4,-1,-1],\n",
    "    [-1,3,-1],\n",
    "    [-1,-1,2]]\n",
    ")\n",
    "\n",
    "B = np.matrix(\n",
    "    [[13],\n",
    "     [13],\n",
    "     [13]]\n",
    ")\n",
    "\n",
    "X = np.linalg.solve(A, B)\n",
    "X"
   ]
  },
  {
   "cell_type": "markdown",
   "metadata": {},
   "source": [
    "## 6. Dimensión de matrices\n",
    "\n",
    "Sea la matriz $\n",
    "  M=\n",
    "  \\left[ {\\begin{array}{cc}\n",
    "   1 & 0  & 0 & 5 \\\\\n",
    "   0 & 2  & 0 & 7 \\\\\n",
    "   0 & 0  & 3 & 9 \\\\\n",
    "  \\end{array} } \\right]\n",
    "$. Calcular el rango por filas y por columnas usando Python."
   ]
  },
  {
   "cell_type": "code",
   "execution_count": 5,
   "metadata": {},
   "outputs": [
    {
     "data": {
      "text/plain": [
       "3"
      ]
     },
     "execution_count": 5,
     "metadata": {},
     "output_type": "execute_result"
    }
   ],
   "source": [
    "import numpy as np\n",
    "A=np.matrix([\n",
    "   [1,0,0,5],\n",
    "   [0,2,0,7],\n",
    "   [0,0,3,9]\n",
    "   ])\n",
    "np.linalg.matrix_rank(A)"
   ]
  },
  {
   "cell_type": "code",
   "execution_count": 6,
   "metadata": {},
   "outputs": [
    {
     "data": {
      "text/plain": [
       "3"
      ]
     },
     "execution_count": 6,
     "metadata": {},
     "output_type": "execute_result"
    }
   ],
   "source": [
    "import sympy as sp\n",
    "A=sp.Matrix([\n",
    "   [1,0,0,5],\n",
    "   [0,2,0,7],\n",
    "   [0,0,3,9]\n",
    "   ])\n",
    "A.rank()"
   ]
  },
  {
   "cell_type": "markdown",
   "metadata": {},
   "source": [
    "## 7. Bosque de extensión mínima\n",
    "\n",
    "<img src=\"Images/bosque.png\" style=\"width: 800px;\"/>\n",
    "\n",
    "En clase hemos hecho el caso del grafo de la derecha. Le toca el turno al de la izquierda.\n",
    "Supongamos que queremos diseñar la red de internet para el otro campus universitario.  \n",
    "La red debe lograr la misma conectividad que el grafo de entrada.  \n",
    "Una arista representa un posible cable.  \n",
    "El peso de la arista es el coste de instalar el cable.  \n",
    "Nuestro objetivo es minimizar el coste total, usando el algoritmo Grow y el algoritmo Shrink.\n",
    "Lo único que en este caso se pide crear un procedimiento para el algoritmo Grow y otro para el Shrink que lo hagan automáticamente una vez les metamos como parámetros las aristas y sus pesos"
   ]
  },
  {
   "cell_type": "code",
   "execution_count": 7,
   "metadata": {},
   "outputs": [],
   "source": [
    "#clase dia 3 2:35\n",
    "grafo = [({\"Bio-Med\",\"Athletic Complex\"},9),\n",
    "         ({\"Athletic Complex\",\"Pembroke Campus\"},7),\n",
    "         ({\"Pembroke Campus\",\"Bio-Med\"},2)\n",
    "        ]"
   ]
  },
  {
   "cell_type": "code",
   "execution_count": 8,
   "metadata": {},
   "outputs": [],
   "source": [
    "# Algoritmo Grow\n",
    "def Algorithm_Grow(grafo):\n",
    "    bosque = []\n",
    "    gr = grafo.copy()\n",
    "    nodosDeseados = Fn_Get_Nodos(gr)\n",
    "    minimo = Fn_Get_PesoMin(gr)\n",
    "    for i in range(0,len(gr)):\n",
    "        if gr[i][1] == minimo:\n",
    "            nuevoVertice = gr.pop(i)\n",
    "            break\n",
    "    bosque.append(nuevoVertice)\n",
    "    nodosEnBosque=Fn_Get_Nodos(bosque)\n",
    "    nodosQueQuedan = nodosDeseados - nodosEnBosque  \n",
    "    while nodosQueQuedan:\n",
    "        for nodo in nodosQueQuedan:\n",
    "            for v in gr:\n",
    "                if nodo in v[0]:\n",
    "                    vertices = v[0].copy()\n",
    "                    unNodo = vertices.pop()\n",
    "                    otroNodo = vertices.pop()\n",
    "                    if nodo == otroNodo:\n",
    "                        nodoBuscado = otroNodo\n",
    "                    else:\n",
    "                        nodoBuscado = unNodo\n",
    "                    if nodoBuscado in nodosQueQuedan:\n",
    "                        maximo=Fn_Get_PesoMax(gr)\n",
    "                        if v[1] <= maximo:\n",
    "                            maximo = v[1]\n",
    "                            nodoNuevo = nodoBuscado                           \n",
    "        listaVertices = Fn_Get_Vertices(gr, nodoNuevo, nodosEnBosque)\n",
    "        minimo = Fn_Get_PesoMin(listaVertices)\n",
    "        for i in range(0,len(listaVertices)):\n",
    "            if listaVertices[i][1] == minimo:\n",
    "                nuevoVertice = listaVertices.pop(i)\n",
    "                break\n",
    "        bosque.append(nuevoVertice)\n",
    "        nodosEnBosque=Fn_Get_Nodos(bosque)\n",
    "        nodosQueQuedan = nodosDeseados - nodosEnBosque   \n",
    "    return bosque\n",
    "\n",
    "def Fn_Get_PesoMin(grafo):\n",
    "    peso=Fn_Get_PesoMax(grafo)\n",
    "    for v in grafo:\n",
    "        if peso>v[1]:\n",
    "            peso=v[1] \n",
    "    return peso\n",
    "\n",
    "def Fn_Get_PesoMax(grafo):\n",
    "    peso = 0\n",
    "    for v in grafo:\n",
    "        if peso<v[1]:\n",
    "            peso = v[1]\n",
    "    return peso\n",
    "\n",
    "def Fn_Get_Nodos(grafo):\n",
    "    nodos = set()\n",
    "    for i in grafo:\n",
    "        for e in i[0]:\n",
    "            nodos.add(e)        \n",
    "    return nodos\n",
    "\n",
    "def Fn_Get_Vertices(grafo, nodoInicial, listaDeNodos):\n",
    "    l = []\n",
    "    for i in grafo:\n",
    "        vertices = i[0].copy()\n",
    "        unNodo = vertices.pop()\n",
    "        otroNodo = vertices.pop()\n",
    "        if (unNodo == nodoInicial and otroNodo in listaDeNodos) or (otroNodo == nodoInicial and unNodo in listaDeNodos):\n",
    "            l.append(i)\n",
    "    return l"
   ]
  },
  {
   "cell_type": "code",
   "execution_count": 9,
   "metadata": {},
   "outputs": [
    {
     "data": {
      "text/plain": [
       "[({'Bio-Med', 'Pembroke Campus'}, 2),\n",
       " ({'Athletic Complex', 'Pembroke Campus'}, 7)]"
      ]
     },
     "execution_count": 9,
     "metadata": {},
     "output_type": "execute_result"
    }
   ],
   "source": [
    "Algorithm_Grow(grafo)"
   ]
  },
  {
   "cell_type": "code",
   "execution_count": 10,
   "metadata": {},
   "outputs": [
    {
     "data": {
      "text/plain": [
       "{'Athletic Complex', 'Bio-Med', 'Pembroke Campus'}"
      ]
     },
     "execution_count": 10,
     "metadata": {},
     "output_type": "execute_result"
    }
   ],
   "source": [
    "Fn_Get_Nodos(grafo)"
   ]
  },
  {
   "cell_type": "code",
   "execution_count": 11,
   "metadata": {},
   "outputs": [
    {
     "data": {
      "text/plain": [
       "[({'Athletic Complex', 'Bio-Med'}, 9),\n",
       " ({'Athletic Complex', 'Pembroke Campus'}, 7)]"
      ]
     },
     "execution_count": 11,
     "metadata": {},
     "output_type": "execute_result"
    }
   ],
   "source": [
    "Fn_Get_Vertices(grafo, 'Athletic Complex',{'Bio-Med', 'Pembroke Campus'})"
   ]
  },
  {
   "cell_type": "code",
   "execution_count": 12,
   "metadata": {},
   "outputs": [],
   "source": [
    "# Algoritmo Shrink\n",
    "def Algorithm_Shrink(grafo):\n",
    "    bosque = grafo.copy()  \n",
    "    pesos = Fn_Get_Pesos(grafo)\n",
    "    nodosTotales = Fn_Get_Nodos(grafo)\n",
    "    while pesos:\n",
    "        pesoBuscado = pesos[0] \n",
    "        for i in range(0, len(bosque)): \n",
    "            if bosque[i][1] == pesoBuscado:\n",
    "                nuevoVertice = bosque.pop(i)\n",
    "                pesos.remove(pesoBuscado)\n",
    "                break\n",
    "        for n1 in nodosTotales:\n",
    "            esteNodo = set()\n",
    "            esteNodo.add(n1)\n",
    "            otrosNodos = nodosTotales - esteNodo\n",
    "            for n2 in otrosNodos:\n",
    "                conectados=Fn_Check_Camino(bosque, n1, n2)\n",
    "                if conectados is True:\n",
    "                    break\n",
    "        if Fn_Get_Nodos(bosque) != nodosTotales:\n",
    "            bosque.append(nuevoVertice)\n",
    "        elif conectados is False:\n",
    "            bosque.append(nuevoVertice)          \n",
    "    return(bosque)\n",
    "\n",
    "def Fn_Get_Pesos(grafo):\n",
    "    l = []\n",
    "    for i in grafo:\n",
    "        l.append(i[1])\n",
    "    l.sort(reverse=True)\n",
    "    return l\n",
    "\n",
    "def Fn_Get_NodConect (grafoOriginal,nodo):\n",
    "    nodos=set()\n",
    "    for v in grafoOriginal:\n",
    "        if nodo in v[0]:\n",
    "            nodos=nodos | (v[0])\n",
    "        nodos= nodos - {nodo}\n",
    "    return nodos\n",
    "\n",
    "def Fn_Check_Camino(grafoOriginal,nodoA,nodoB):\n",
    "    grafo=grafoOriginal.copy() \n",
    "    for v in grafo:\n",
    "        if (nodoA in v[0]) and (nodoB in v[0]):\n",
    "            return True\n",
    "    nodosParaBuscar=Fn_Get_NodConect (grafo,nodoA)\n",
    "    nuevoGrafo=Fn_Eliminar_Nodo(grafo,nodoA)\n",
    "    for e in nodosParaBuscar:\n",
    "        if Fn_Check_Camino(nuevoGrafo,e,nodoB):\n",
    "            return True \n",
    "\n",
    "def Fn_Eliminar_Nodo (grafo,nodo):\n",
    "    grafoCopia=grafo.copy()\n",
    "    for v in grafo:\n",
    "        if nodo in v[0]:\n",
    "            grafoCopia.remove(v)\n",
    "    return grafoCopia\n"
   ]
  },
  {
   "cell_type": "code",
   "execution_count": 13,
   "metadata": {},
   "outputs": [
    {
     "data": {
      "text/plain": [
       "[({'Athletic Complex', 'Pembroke Campus'}, 7),\n",
       " ({'Bio-Med', 'Pembroke Campus'}, 2)]"
      ]
     },
     "execution_count": 13,
     "metadata": {},
     "output_type": "execute_result"
    }
   ],
   "source": [
    "Algorithm_Shrink(grafo)"
   ]
  },
  {
   "cell_type": "code",
   "execution_count": 14,
   "metadata": {},
   "outputs": [
    {
     "data": {
      "text/plain": [
       "[9, 7, 2]"
      ]
     },
     "execution_count": 14,
     "metadata": {},
     "output_type": "execute_result"
    }
   ],
   "source": [
    "Fn_Get_Pesos(grafo)"
   ]
  },
  {
   "cell_type": "code",
   "execution_count": 15,
   "metadata": {},
   "outputs": [
    {
     "data": {
      "text/plain": [
       "True"
      ]
     },
     "execution_count": 15,
     "metadata": {},
     "output_type": "execute_result"
    }
   ],
   "source": [
    "Fn_Check_Camino(grafo,'Athletic Complex','Pembroke Campus')"
   ]
  },
  {
   "cell_type": "code",
   "execution_count": 16,
   "metadata": {},
   "outputs": [
    {
     "data": {
      "text/plain": [
       "{'Bio-Med', 'Pembroke Campus'}"
      ]
     },
     "execution_count": 16,
     "metadata": {},
     "output_type": "execute_result"
    }
   ],
   "source": [
    "Fn_Get_NodConect (grafo,'Athletic Complex')"
   ]
  },
  {
   "cell_type": "code",
   "execution_count": 17,
   "metadata": {},
   "outputs": [
    {
     "data": {
      "text/plain": [
       "[({'Bio-Med', 'Pembroke Campus'}, 2)]"
      ]
     },
     "execution_count": 17,
     "metadata": {},
     "output_type": "execute_result"
    }
   ],
   "source": [
    "Fn_Eliminar_Nodo (grafo,'Athletic Complex')"
   ]
  },
  {
   "cell_type": "markdown",
   "metadata": {},
   "source": [
    "## 8. El dígito móvil\n",
    "\n",
    "<img src=\"Images/imagenx2.png\" style=\"width: 500px;\"/>\n",
    "\n",
    "Hallar un número tal que, multiplicado por 3 y dividido entre 2, dé el mismo resultado que si moviéramos el primer dígito del número, el 3, desde el principio hasta el final de la fila de dígitos\n",
    "\n",
    "PISTA: Los únicos números que, al ser multiplicados por determinadas cifras, producen otros números cuyos dígitos siguen la misma secuencia que el número original aunque comenzando por otro de sus dígitos, son los períodos de los números decimales periódicos. Estos números se dicen **cíclicos**.  \n",
    "Nosotros queremos buscar un número de este tipo\n",
    "\n",
    "PISTA: No hay que resolverlo con Python"
   ]
  },
  {
   "cell_type": "markdown",
   "metadata": {},
   "source": []
  },
  {
   "cell_type": "code",
   "execution_count": 18,
   "metadata": {},
   "outputs": [
    {
     "name": "stdout",
     "output_type": "stream",
     "text": [
      "0.058823529411764705 0.08823529411764705\n"
     ]
    }
   ],
   "source": [
    "n=17\n",
    "x = 1/n\n",
    "y= x*3/2\n",
    "print(x,y)"
   ]
  },
  {
   "cell_type": "markdown",
   "metadata": {},
   "source": [
    "## 9. Agujas superpuestas\n",
    "\n",
    "<img src=\"Images/reloj-movimiento--478x578.jpg\" style=\"width: 250px;\"/>\n",
    "\n",
    "El horario y el minutero de un reloj se juntan exactamente cada 65 minutos.  \n",
    "Calcular si el reloj se adelanta o se atrasa, y cuánto por hora.  \n",
    "\n",
    "PISTA: Suponer que las agujas del reloj empiezan en las 12 en punto.\n",
    "\n",
    "PISTA: No hace falta resolverlo con Python"
   ]
  },
  {
   "cell_type": "markdown",
   "metadata": {},
   "source": [
    "Se supondria que la primera vez que se juntan las agujas seria a las 1:05, cuando aguja_larga (minutos) va a llegar a los 5 minutos y se va a juntar con la  la aguja_corta (horas) que esta en las 1:00...pero la aguja_corta ha avanzado un poco de espacio y no esta exactamente en las 1:00, entonces la aguja_larga tiene que recorrer ese espacio extra de los 65 minutos.\n",
    "\n",
    "Solución --> En una vuelta completa de 12 horas basta contar que las manecillas de las horas y los minutos se cruzan exactamente once veces y siempre tardan lo mismo.\n",
    "\n",
    "De modo que se cruzan cada 12/11 horas = 65,45 minutos = 1 hora 5 minutos y 27,2727... segundos."
   ]
  },
  {
   "cell_type": "markdown",
   "metadata": {},
   "source": [
    "## 10. Cuadrados perfectos\n",
    "\n",
    "<img src=\"Images/cuadrados-perfectos.jpg\" style=\"width: 500px;\"/>\n",
    "\n",
    "Averiguar el número entero positivo que, sumado tanto a 100 como a 164, propociona sendos cuadrados perfectos.\n",
    "\n",
    "PISTA: No hace falta resolverlo con Python"
   ]
  },
  {
   "cell_type": "markdown",
   "metadata": {},
   "source": [
    "x+100\n",
    "x+164\n",
    "x>0\n",
    "\n",
    "Cuadrador perfecto --> es un número entero que es el cuadrado de algún otro"
   ]
  },
  {
   "cell_type": "code",
   "execution_count": 19,
   "metadata": {},
   "outputs": [
    {
     "name": "stdout",
     "output_type": "stream",
     "text": [
      "125\n"
     ]
    }
   ],
   "source": [
    "import math\n",
    "\n",
    "#defino una funcion para calcular que un numero sea cuadrado perfecto\n",
    "def encontrar_cuadrado_perfecto(numero):\n",
    "    n = int(math.sqrt(numero))\n",
    "    if(n*n == numero):\n",
    "        return True\n",
    "    else:\n",
    "        return False\n",
    "    \n",
    "#defino una variable para iniciar un contador y comenzar la busqueda del numero\n",
    "contador = 1\n",
    "#defino otra variable en este caso boolean para que en caso de conseguir la condicion que vamos a utilizar cambie su valor\n",
    "conseguido = False\n",
    "\n",
    "#el bucle que vamos a utilizar es un while que mientras que \"conseguido = False\" busque nuestro numero (como sabemos que existe)\n",
    "#no utilizamos break u otro control\n",
    "while conseguido == False:\n",
    "    numero = contador +100 #sumo 100 al numero y lo guardo en otra variable para controlar mejor el proceso\n",
    "    if encontrar_cuadrado_perfecto(numero) == True:\n",
    "        numero += 64 # si se cumple lo anterior, sumamos la diferencia y volvemos a comprobar\n",
    "        if encontrar_cuadrado_perfecto(numero) == True:\n",
    "            conseguido = True #si damos con el numero cambiamos la condicion del bucle while\n",
    "        else:\n",
    "            contador += 1 #sumamos el contador en cada else para dar con el valor a buscar (en los 2 else no entra a la vez)\n",
    "    else:\n",
    "        contador += 1   #sumamos el contador en cada else para dar con el valor a buscar  (en los 2 else no entra a la vez)\n",
    "\n",
    "print(contador)"
   ]
  },
  {
   "cell_type": "markdown",
   "metadata": {},
   "source": [
    "## 11. Días de vacaciones\n",
    "\n",
    "<img src=\"Images/vacaciones.jpg\" style=\"width: 500px;\"/>\n",
    "\n",
    "Durante mis vacaciones llovió 9 días, y hubo 10 mañanas y 9 tardes soleadas. Cuando llovió por la mañana, la tarde fue soleada.\n",
    "¿Cuántos días duraron mis vacaciones?"
   ]
  },
  {
   "cell_type": "markdown",
   "metadata": {},
   "source": [
    "#sistemas de ecuaciones"
   ]
  },
  {
   "cell_type": "markdown",
   "metadata": {},
   "source": [
    "Si llueve por la mañana la tarde fue soleada, quiere decir que nunca el dia entero fue con lluvia.\n",
    "Si nunca llueve el dia entero y las mañanas son en numero igual a las tardes, podemos deducir:\n",
    "x=dias que llueve por la mañana\n",
    "y=dias que llueve por la tarde\n",
    "x+10=y+9 (dias que llueve mas los dias soleados deben ser igual a las tardes que llueve mas las tardes soleadas)\n",
    "x+y=9 (por otro lado, como ha llovido 9 dias y nunca el dia entero nuestras variables deben dar 9).\n",
    "Luego los dias totales de vacaciones fueron 14 (x=4, y=5)\n",
    "\n",
    "x+10=y+9\n",
    "\n",
    "x+y=9\n",
    "\n",
    "(ordenamos x,y)\n",
    "\n",
    "x-y=-1  -->  x-y=9-10\n",
    "\n",
    "x+y=9"
   ]
  },
  {
   "cell_type": "code",
   "execution_count": 20,
   "metadata": {},
   "outputs": [
    {
     "data": {
      "text/plain": [
       "{x: 4, y: 5}"
      ]
     },
     "execution_count": 20,
     "metadata": {},
     "output_type": "execute_result"
    }
   ],
   "source": [
    "from sympy import Matrix, solve_linear_system\n",
    "from sympy.abc import x,y \n",
    "\n",
    "A=Matrix([\n",
    "    [1,-1,-1],\n",
    "    [1,1,9]\n",
    "   ])\n",
    "\n",
    "solve_linear_system(A,x,y)"
   ]
  }
 ],
 "metadata": {
  "kernelspec": {
   "display_name": "Python 3",
   "language": "python",
   "name": "python3"
  },
  "language_info": {
   "codemirror_mode": {
    "name": "ipython",
    "version": 3
   },
   "file_extension": ".py",
   "mimetype": "text/x-python",
   "name": "python",
   "nbconvert_exporter": "python",
   "pygments_lexer": "ipython3",
   "version": "3.7.6"
  }
 },
 "nbformat": 4,
 "nbformat_minor": 2
}
